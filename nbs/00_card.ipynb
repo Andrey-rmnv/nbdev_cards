{
 "cells": [
  {
   "cell_type": "markdown",
   "metadata": {},
   "source": [
    "# Card -- A basic paying card\n",
    "\n",
    "> A simple API for creating and using playing cards"
   ]
  },
  {
   "cell_type": "code",
   "execution_count": null,
   "metadata": {},
   "outputs": [],
   "source": [
    "#| default_exp card"
   ]
  },
  {
   "cell_type": "code",
   "execution_count": 40,
   "metadata": {
    "ExecuteTime": {
     "end_time": "2024-02-05T10:32:26.187655347Z",
     "start_time": "2024-02-05T10:32:26.146887623Z"
    }
   },
   "outputs": [],
   "source": [
    "#| hide\n",
    "from nbdev.showdoc import *\n",
    "from fastcore.test import *"
   ]
  },
  {
   "cell_type": "code",
   "outputs": [],
   "source": [
    "#| export\n",
    "from fastcore.utils import *"
   ],
   "metadata": {
    "collapsed": false,
    "ExecuteTime": {
     "end_time": "2024-02-05T10:32:26.800154187Z",
     "start_time": "2024-02-05T10:32:26.791234139Z"
    }
   },
   "execution_count": 41
  },
  {
   "cell_type": "code",
   "outputs": [],
   "source": [
    "#| export\n",
    "suits = [\"♣️\",\"♦️\",\"❤️\",\"♠️\"]\n",
    "ranks = [None, \"A\"] + [str(x) for x in range(2,11)]  + [\"J\", \"Q\", \"K\"]"
   ],
   "metadata": {
    "collapsed": false,
    "ExecuteTime": {
     "end_time": "2024-02-05T10:32:27.503553108Z",
     "start_time": "2024-02-05T10:32:27.496072693Z"
    }
   },
   "execution_count": 42
  },
  {
   "cell_type": "markdown",
   "source": [
    "We will be using numbers to represent playing card clubs and ranks. These are the suits:"
   ],
   "metadata": {
    "collapsed": false
   }
  },
  {
   "cell_type": "code",
   "outputs": [
    {
     "data": {
      "text/plain": "['♣️', '♦️', '❤️', '♠️']"
     },
     "execution_count": 43,
     "metadata": {},
     "output_type": "execute_result"
    }
   ],
   "source": [
    "suits"
   ],
   "metadata": {
    "collapsed": false,
    "ExecuteTime": {
     "end_time": "2024-02-05T10:32:28.693158982Z",
     "start_time": "2024-02-05T10:32:28.681796513Z"
    }
   },
   "execution_count": 43
  },
  {
   "cell_type": "markdown",
   "source": [
    "For instance the suit at index `0`:"
   ],
   "metadata": {
    "collapsed": false
   }
  },
  {
   "cell_type": "code",
   "outputs": [
    {
     "data": {
      "text/plain": "'♣️'"
     },
     "execution_count": 44,
     "metadata": {},
     "output_type": "execute_result"
    }
   ],
   "source": [
    "suits[0]"
   ],
   "metadata": {
    "collapsed": false,
    "ExecuteTime": {
     "end_time": "2024-02-05T10:32:29.492107727Z",
     "start_time": "2024-02-05T10:32:29.487369539Z"
    }
   },
   "execution_count": 44
  },
  {
   "cell_type": "markdown",
   "source": [
    "For instance the rank at index `1` (note that there isn't a playing card at position `0`, since we want the ranks to match the indices where possible):"
   ],
   "metadata": {
    "collapsed": false
   }
  },
  {
   "cell_type": "code",
   "outputs": [
    {
     "data": {
      "text/plain": "'A'"
     },
     "execution_count": 45,
     "metadata": {},
     "output_type": "execute_result"
    }
   ],
   "source": [
    "ranks[1]"
   ],
   "metadata": {
    "collapsed": false,
    "ExecuteTime": {
     "end_time": "2024-02-05T10:32:30.322032416Z",
     "start_time": "2024-02-05T10:32:30.311685612Z"
    }
   },
   "execution_count": 45
  },
  {
   "cell_type": "code",
   "outputs": [],
   "source": [
    "#| export\n",
    "class Card:\n",
    "    \"A playing card\"\n",
    "    def __init__(self,\n",
    "                 suit:int,  # An index into `suits`\n",
    "                 rank:int): # An index into `ranks`\n",
    "        self.suit = suit\n",
    "        self.rank = rank\n",
    "    def __str__(self):\n",
    "        return f\"{ranks[self.rank]}{suits[self.suit]}\"\n",
    "    __repr__ = __str__\n",
    "  "
   ],
   "metadata": {
    "collapsed": false,
    "ExecuteTime": {
     "end_time": "2024-02-05T10:32:30.891490488Z",
     "start_time": "2024-02-05T10:32:30.884194202Z"
    }
   },
   "execution_count": 46
  },
  {
   "cell_type": "code",
   "outputs": [
    {
     "data": {
      "text/plain": "---\n\n[source](https://github.com/Andrey-rmnv/nbdev_cards/blob/main/nbdev_cards/card.py#L11){target=\"_blank\" style=\"float:right; font-size:smaller\"}\n\n### Card\n\n>      Card (suit:int, rank:int)\n\nA playing card\n\n|    | **Type** | **Details** |\n| -- | -------- | ----------- |\n| suit | int | An index into `suits` |\n| rank | int | An index into `ranks` |",
      "text/markdown": "---\n\n[source](https://github.com/Andrey-rmnv/nbdev_cards/blob/main/nbdev_cards/card.py#L11){target=\"_blank\" style=\"float:right; font-size:smaller\"}\n\n### Card\n\n>      Card (suit:int, rank:int)\n\nA playing card\n\n|    | **Type** | **Details** |\n| -- | -------- | ----------- |\n| suit | int | An index into `suits` |\n| rank | int | An index into `ranks` |"
     },
     "execution_count": 24,
     "metadata": {},
     "output_type": "execute_result"
    }
   ],
   "source": [
    "show_doc(Card)"
   ],
   "metadata": {
    "collapsed": false,
    "ExecuteTime": {
     "end_time": "2024-02-05T10:15:10.228204266Z",
     "start_time": "2024-02-05T10:15:10.191820840Z"
    }
   },
   "execution_count": 24
  },
  {
   "cell_type": "markdown",
   "source": [
    "Here's an example of creating and displaying a card:"
   ],
   "metadata": {
    "collapsed": false
   }
  },
  {
   "cell_type": "code",
   "outputs": [
    {
     "data": {
      "text/plain": "3♦️"
     },
     "execution_count": 47,
     "metadata": {},
     "output_type": "execute_result"
    }
   ],
   "source": [
    "c = Card(suit=1, rank=3)\n",
    "c"
   ],
   "metadata": {
    "collapsed": false,
    "ExecuteTime": {
     "end_time": "2024-02-05T10:32:32.295146832Z",
     "start_time": "2024-02-05T10:32:32.292230236Z"
    }
   },
   "execution_count": 47
  },
  {
   "cell_type": "markdown",
   "source": [
    "## Comparison operators\n",
    "Equality, less than, and greater than work on the rank and suit indices."
   ],
   "metadata": {
    "collapsed": false
   }
  },
  {
   "cell_type": "code",
   "outputs": [],
   "source": [
    "#| export\n",
    "@patch\n",
    "def __eq__(self: 'Card', a: 'Card'):\n",
    "    return (self.suit, self.rank) == (a.suit, a.rank)\n",
    "\n",
    "@patch\n",
    "def __lt__(self:'Card', a: 'Card'):\n",
    "    return (self.suit, self.rank) < (a.suit, a.rank)\n",
    "\n",
    "@patch\n",
    "def __gt__(self: 'Card', a: 'Card'):\n",
    "    return (self.suit, self.rank) > (a.suit, a.rank)"
   ],
   "metadata": {
    "collapsed": false,
    "ExecuteTime": {
     "end_time": "2024-02-05T10:32:33.243973593Z",
     "start_time": "2024-02-05T10:32:33.238912477Z"
    }
   },
   "execution_count": 48
  },
  {
   "cell_type": "markdown",
   "source": [
    "For instance, here's a test of equality..."
   ],
   "metadata": {
    "collapsed": false
   }
  },
  {
   "cell_type": "code",
   "outputs": [],
   "source": [
    "test_eq(Card(suit=1, rank=3), Card(suit=1, rank=3))"
   ],
   "metadata": {
    "collapsed": false,
    "ExecuteTime": {
     "end_time": "2024-02-05T10:32:34.566672898Z",
     "start_time": "2024-02-05T10:32:34.563228478Z"
    }
   },
   "execution_count": 49
  },
  {
   "cell_type": "code",
   "outputs": [],
   "source": [
    "#| hide\n",
    "test_ne(Card(suit=2, rank=3), Card(suit=1, rank=3))\n",
    "test_ne(Card(suit=1, rank=2), Card(suit=1, rank=3))"
   ],
   "metadata": {
    "collapsed": false,
    "ExecuteTime": {
     "end_time": "2024-02-05T10:32:35.800317987Z",
     "start_time": "2024-02-05T10:32:35.796621111Z"
    }
   },
   "execution_count": 51
  },
  {
   "cell_type": "markdown",
   "source": [
    "...and a test of `<`..."
   ],
   "metadata": {
    "collapsed": false
   }
  },
  {
   "cell_type": "code",
   "outputs": [],
   "source": [
    "assert Card(suit=1, rank=3) < Card(suit=2, rank=3)"
   ],
   "metadata": {
    "collapsed": false,
    "ExecuteTime": {
     "end_time": "2024-02-05T10:32:37.141515855Z",
     "start_time": "2024-02-05T10:32:37.139414416Z"
    }
   },
   "execution_count": 52
  },
  {
   "cell_type": "markdown",
   "source": [
    "...and finally of `>`:"
   ],
   "metadata": {
    "collapsed": false
   }
  },
  {
   "cell_type": "code",
   "outputs": [],
   "source": [
    "assert Card(suit=3, rank=3) > Card(suit=2, rank=3)\n",
    "assert not Card(suit=1, rank=3) > Card(suit=2, rank=3)"
   ],
   "metadata": {
    "collapsed": false,
    "ExecuteTime": {
     "end_time": "2024-02-05T10:32:37.734753733Z",
     "start_time": "2024-02-05T10:32:37.730642145Z"
    }
   },
   "execution_count": 53
  },
  {
   "cell_type": "code",
   "outputs": [
    {
     "data": {
      "text/plain": "---\n\n[source](https://github.com/fastai/fastcore/blob/master/fastcore/basics.py#LNone){target=\"_blank\" style=\"float:right; font-size:smaller\"}\n\n### patch\n\n>      patch (f=None, as_prop=False, cls_method=False)\n\nDecorator: add `f` to the first parameter's class (based on f's type annotations)",
      "text/markdown": "---\n\n[source](https://github.com/fastai/fastcore/blob/master/fastcore/basics.py#LNone){target=\"_blank\" style=\"float:right; font-size:smaller\"}\n\n### patch\n\n>      patch (f=None, as_prop=False, cls_method=False)\n\nDecorator: add `f` to the first parameter's class (based on f's type annotations)"
     },
     "execution_count": 54,
     "metadata": {},
     "output_type": "execute_result"
    }
   ],
   "source": [
    "show_doc(patch)"
   ],
   "metadata": {
    "collapsed": false,
    "ExecuteTime": {
     "end_time": "2024-02-05T10:32:38.370147849Z",
     "start_time": "2024-02-05T10:32:38.356066588Z"
    }
   },
   "execution_count": 54
  },
  {
   "cell_type": "code",
   "outputs": [],
   "source": [
    "#| hide\n",
    "import nbdev; nbdev.nbdev_export()"
   ],
   "metadata": {
    "ExecuteTime": {
     "end_time": "2024-02-05T10:32:39.404978787Z",
     "start_time": "2024-02-05T10:32:39.396078877Z"
    }
   },
   "execution_count": 55
  }
 ],
 "metadata": {
  "kernelspec": {
   "display_name": "python3",
   "language": "python",
   "name": "python3"
  }
 },
 "nbformat": 4,
 "nbformat_minor": 4
}
